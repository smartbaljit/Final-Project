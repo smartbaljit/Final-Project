{
 "cells": [
  {
   "cell_type": "code",
   "execution_count": null,
   "metadata": {},
   "outputs": [],
   "source": [
    "# Load libraries\n",
    "\n",
    "import pandas as pd\n",
    "import numpy as np\n",
    "from sqlalchemy import create_engine\n",
    "from sqlalchemy.ext.automap import automap_base\n",
    "from sqlalchemy.orm import Session\n",
    "import time"
   ]
  },
  {
   "cell_type": "code",
   "execution_count": null,
   "metadata": {},
   "outputs": [],
   "source": [
    "# Specify the years in the list for which the news has to be extracted\n",
    "year = []\n",
    "for i in range(2000,2001):\n",
    "   year.append(i)\n",
    "year"
   ]
  },
  {
   "cell_type": "code",
   "execution_count": null,
   "metadata": {},
   "outputs": [],
   "source": [
    "url_list = []\n",
    "month =[1,2,3,4,5,6,7,8,9,10,11,12]\n",
    "base_url = \"https://api.nytimes.com/svc/archive/v1/\"\n",
    "api_key =<your api key here> \n",
    "\n",
    "#Get URLs for every month of the years specified in the years list\n",
    "for y in year:\n",
    "    for m in month:\n",
    "        full_url = base_url + str(y) + \"/\" + str(m) + \".json?api-key=\" + api_key \n",
    "        #print (full_url)\n",
    "        url_list.append(full_url)\n",
    "url_list"
   ]
  },
  {
   "cell_type": "code",
   "execution_count": null,
   "metadata": {},
   "outputs": [],
   "source": [
    "#create an empty dataframe\n",
    "main_df = pd.DataFrame()\n",
    "\n",
    "for url in url_list:\n",
    "    print (url)\n",
    "    df_json = pd.read_json(url, orient='records') \n",
    "    details = df_json.iloc[0]['response']\n",
    "    df_json1 = pd.DataFrame(details)\n",
    "    df_json1 = df_json1[['abstract','headline','pub_date']]\n",
    "    result = main_df.append(df_json1)\n",
    "    print(result.tail())\n",
    "    #keeping a wait time of 4 seconds so that requests get processed properly without http error\n",
    "    time.sleep(4)\n",
    "       "
   ]
  },
  {
   "cell_type": "code",
   "execution_count": null,
   "metadata": {},
   "outputs": [],
   "source": [
    "result.head(20)"
   ]
  },
  {
   "cell_type": "code",
   "execution_count": null,
   "metadata": {},
   "outputs": [],
   "source": [
    "#Extract only the year from the publication date column\n",
    "result[\"pub_date\"]= result[\"pub_date\"].str.split(\"-\", n = 1, expand = True) \n",
    "result.head(20)"
   ]
  },
  {
   "cell_type": "code",
   "execution_count": null,
   "metadata": {},
   "outputs": [],
   "source": [
    "#delete the empty rows (with none value in the abstract column)\n",
    "result.dropna(axis=0, how='any')"
   ]
  },
  {
   "cell_type": "code",
   "execution_count": null,
   "metadata": {},
   "outputs": [],
   "source": [
    "#Delete all records containing main:corrections in the headline column\n",
    "result[result.headline.str.contains('Corrections')]\n",
    "result"
   ]
  },
  {
   "cell_type": "code",
   "execution_count": null,
   "metadata": {},
   "outputs": [],
   "source": [
    "#result1.replace(regex=\"'\", value='')\n",
    "#result1"
   ]
  },
  {
   "cell_type": "code",
   "execution_count": null,
   "metadata": {},
   "outputs": [],
   "source": []
  },
  {
   "cell_type": "code",
   "execution_count": null,
   "metadata": {},
   "outputs": [],
   "source": [
    "#Loading all the above news data in the sqlite database\n",
    "\n",
    "# Import SQL Alchemy\n",
    "from sqlalchemy import create_engine\n",
    "engine = create_engine(\"sqlite:///NYTimesNewsDB.sqlite\")\n",
    "conn = engine.connect()"
   ]
  },
  {
   "cell_type": "code",
   "execution_count": null,
   "metadata": {},
   "outputs": [],
   "source": [
    "import sqlalchemy\n",
    "from sqlalchemy.ext.automap import automap_base\n",
    "from sqlalchemy.orm import Session\n",
    "from sqlalchemy import create_engine, func, inspect"
   ]
  },
  {
   "cell_type": "code",
   "execution_count": null,
   "metadata": {},
   "outputs": [],
   "source": [
    "# Making sure that the table doesnt exist\n",
    "engine.execute(\"DROP TABLE IF EXISTS NYTimes_News_Table\")\n",
    "engine.table_names()"
   ]
  },
  {
   "cell_type": "code",
   "execution_count": null,
   "metadata": {},
   "outputs": [],
   "source": [
    "#Loading the data from pandas dataframe to the database table\n",
    "result.to_sql(name='NYTimes_News_Table', con=engine, if_exists='append', index=True)\n",
    "engine.table_names()"
   ]
  },
  {
   "cell_type": "code",
   "execution_count": null,
   "metadata": {},
   "outputs": [],
   "source": [
    "# Executing query to verify the data got stored in the DB table\n",
    "result_set = engine.execute(\"SELECT * From NYTimes_News_Table\")\n",
    "for record in result_set:\n",
    "    print(record)"
   ]
  }
 ],
 "metadata": {
  "kernelspec": {
   "display_name": "Python 3",
   "language": "python",
   "name": "python3"
  },
  "language_info": {
   "codemirror_mode": {
    "name": "ipython",
    "version": 3
   },
   "file_extension": ".py",
   "mimetype": "text/x-python",
   "name": "python",
   "nbconvert_exporter": "python",
   "pygments_lexer": "ipython3",
   "version": "3.7.1"
  }
 },
 "nbformat": 4,
 "nbformat_minor": 2
}
